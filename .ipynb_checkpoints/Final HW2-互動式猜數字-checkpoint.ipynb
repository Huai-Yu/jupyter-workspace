{
 "cells": [
  {
   "cell_type": "code",
   "execution_count": 1,
   "metadata": {},
   "outputs": [
    {
     "name": "stdout",
     "output_type": "stream",
     "text": [
      "請設定本局遊戲的最小值:0\n",
      "請設定本局遊戲的最大值:100\n",
      "數字猜謎遊戲！\n",
      "請輸入你猜的數字：64\n",
      "你猜的數大了...\n",
      "請輸入你猜的數字：40\n",
      "你猜的數大了...\n",
      "請輸入你猜的數字：30\n",
      "你猜的數大了...\n",
      "請輸入你猜的數字：20\n",
      "你猜的數大了...\n",
      "請輸入你猜的數字：13\n",
      "你猜的數大了...\n",
      "請輸入你猜的數字：5\n",
      "你猜的數小了...\n",
      "請輸入你猜的數字：8\n",
      "你猜的數大了...\n",
      "請輸入你猜的數字：7\n",
      "你猜的數大了...\n",
      "請輸入你猜的數字：6\n",
      "恭喜，你猜對了！\n",
      "你總共猜了9次,快和你朋友較量一下...\n"
     ]
    }
   ],
   "source": [
    "import random\n",
    "rang1 = int(input(\"請設定本局遊戲的最小值:\"))\n",
    "rang2 = int(input(\"請設定本局遊戲的最大值:\"))\n",
    "num = random.randint(rang1,rang2)\n",
    "guess = \"guess\"\n",
    "print(\"數字猜謎遊戲！\")\n",
    "i = 0\n",
    "while guess != num:\n",
    "    i += 1\n",
    "    guess = int(input(\"請輸入你猜的數字：\"))\n",
    "\n",
    "    if guess == num:\n",
    "        print(\"恭喜，你猜對了！\")\n",
    "    elif guess < num:\n",
    "        print(\"你猜的數小了...\")\n",
    "    else:\n",
    "        print(\"你猜的數大了...\")\n",
    "\n",
    "print(\"你總共猜了%d\" %i + \"次\",end = '')\n",
    "print(\",快和你朋友較量一下...\")"
   ]
  },
  {
   "cell_type": "code",
   "execution_count": null,
   "metadata": {},
   "outputs": [],
   "source": []
  }
 ],
 "metadata": {
  "kernelspec": {
   "display_name": "Python 3",
   "language": "python",
   "name": "python3"
  },
  "language_info": {
   "codemirror_mode": {
    "name": "ipython",
    "version": 3
   },
   "file_extension": ".py",
   "mimetype": "text/x-python",
   "name": "python",
   "nbconvert_exporter": "python",
   "pygments_lexer": "ipython3",
   "version": "3.7.4"
  }
 },
 "nbformat": 4,
 "nbformat_minor": 2
}
